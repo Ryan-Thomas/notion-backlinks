{
 "cells": [
  {
   "cell_type": "code",
   "execution_count": 1,
   "metadata": {},
   "outputs": [],
   "source": [
    "from notion.client import NotionClient\n",
    "from notion.block import SubheaderBlock, ToggleBlock, DividerBlock, LinkToCollectionBlock\n",
    "from collections import defaultdict"
   ]
  },
  {
   "cell_type": "code",
   "execution_count": 2,
   "metadata": {},
   "outputs": [],
   "source": [
    "client = NotionClient(token_v2=\"c59c591e459f672d812d040b62b4b021c05eb0f819c3ae6b07148ead4e1be7c53b6b5c0643ec1b59ac2ae02c1c58a98a387f12864c6cebae480d654c8c8432755a12e4bca5380c2b44ceb8663cdb\")"
   ]
  },
  {
   "cell_type": "code",
   "execution_count": 15,
   "metadata": {},
   "outputs": [],
   "source": [
    "base_url = \"https://www.notion.so/\"\n",
    "domain_url = base_url + client.current_space.domain + \"/\"\n",
    "backlinks_label = \"Backlinks\"\n",
    "metadata_label = \"Metadata\"\n",
    "links_label = \"Links\"\n",
    "link_identifier = \"‣\"\n",
    "\n",
    "def url_for_page(page_id):\n",
    "    return  domain_url + page_id.replace(\"-\", \"\")\n",
    "\n",
    "def add_backlinks_section(page):\n",
    "    page.children.add_new(DividerBlock)\n",
    "    backlinks = page.children.add_new(ToggleBlock, title=backlinks_label)\n",
    "    metadata = backlinks.children.add_new(ToggleBlock, title=metadata_label)\n",
    "    metadata.children.add_new(ToggleBlock, title=links_label)\n",
    "    return backlinks\n",
    "    \n",
    "def is_backlink_section(block):\n",
    "    return isinstance(block, ToggleBlock) and block.title == backlinks_label\n",
    "\n",
    "def add_backlinks_section_if_not_exists(page): \n",
    "    for child in page.children:\n",
    "        if is_backlink_section(child):\n",
    "            return child\n",
    "    return add_backlinks_section(page)\n",
    "\n",
    "def get_backlink_section(page):\n",
    "    for child in page.children: \n",
    "        if is_backlink_section(child):\n",
    "            return child\n",
    "        \n",
    "# The link to a page is \n",
    "#     notion.so/${username}/${title with dashes for spaces}-${id with dashes removed}\n",
    "# The link for a block on a page is \n",
    "#     ${page link}#${block id with dashes removed}\n",
    "def link_for_page(page):\n",
    "    pass\n",
    "\n",
    "def is_link(chunk):\n",
    "    return chunk[0] == link_identifier\n",
    "\n",
    "def extract_id_from_link(chunk):\n",
    "    return chunk[1][0][1]\n",
    "\n",
    "def extract_links_from_block(block, dct):\n",
    "    \"\"\"\n",
    "    Returns a map { page id -> [(link, this block)] } for all pages linked inline\n",
    "    \"\"\"\n",
    "    try:\n",
    "        # Don't create backlinks for backlinks\n",
    "        if is_backlink_section(block):\n",
    "            return\n",
    "        content = block.get()['properties']['title']\n",
    "        for chunk in content:\n",
    "            if is_link(chunk):\n",
    "                block_id = extract_id_from_link(chunk)\n",
    "                dct[block_id].append((chunk, block))\n",
    "        # Recursive step\n",
    "        for child in block.children:\n",
    "            extract_links_from_block(child, dct)\n",
    "    except:\n",
    "        pass\n",
    "\n",
    "def extract_links_from_page(page):\n",
    "    dct = defaultdict(list)\n",
    "    for block in page.children:\n",
    "        extract_links_from_block(block, dct)\n",
    "    return dct\n"
   ]
  },
  {
   "cell_type": "code",
   "execution_count": 16,
   "metadata": {},
   "outputs": [
    {
     "data": {
      "text/plain": [
       "defaultdict(list,\n",
       "            {'234991a5-48b9-40a3-a3e1-9d8cf83dc00a': [(['‣',\n",
       "                [['p', '234991a5-48b9-40a3-a3e1-9d8cf83dc00a']]],\n",
       "               <TextBlock (id='eff4ad32-fa1a-4ed2-bc29-bd59d190a185', title='This is some text. Here is a link to ‣.')>),\n",
       "              (['‣', [['p', '234991a5-48b9-40a3-a3e1-9d8cf83dc00a']]],\n",
       "               <ToggleBlock (id='210634f9-4369-4186-a60b-363bc09d8092', title='Within the toggle is a link to ‣ ')>)],\n",
       "             '6aa01673-2436-4e66-aa85-164b7cb4c661': [(['‣',\n",
       "                [['p', '6aa01673-2436-4e66-aa85-164b7cb4c661']]],\n",
       "               <TextBlock (id='7541a270-15d4-4517-b07e-889bd5992282', title='Here is a row with a two links to ‣ and one link to ‣.')>),\n",
       "              (['‣', [['p', '6aa01673-2436-4e66-aa85-164b7cb4c661']]],\n",
       "               <ToggleBlock (id='d5466156-afa7-4f17-8bd0-64bfa322862d', title='And within the second toggle is a link to ‣ ')>)],\n",
       "             '3926f565-66e8-4d15-a577-e9b548f5b2af': [(['‣',\n",
       "                [['p', '3926f565-66e8-4d15-a577-e9b548f5b2af']]],\n",
       "               <TextBlock (id='7541a270-15d4-4517-b07e-889bd5992282', title='Here is a row with a two links to ‣ and one link to ‣.')>)]})"
      ]
     },
     "execution_count": 16,
     "metadata": {},
     "output_type": "execute_result"
    }
   ],
   "source": [
    "page = client.get_block(\"https://www.notion.so/ryantho/Test-Page-04111621d2fd4df18439706194480ae0\")\n",
    "page.refresh()\n",
    "add_backlinks_section_if_not_exists(page)\n",
    "dct = extract_links_from_page(page)\n",
    "dct"
   ]
  },
  {
   "cell_type": "code",
   "execution_count": 12,
   "metadata": {},
   "outputs": [
    {
     "ename": "SyntaxError",
     "evalue": "invalid syntax (<ipython-input-12-38564b9aa503>, line 7)",
     "output_type": "error",
     "traceback": [
      "\u001b[0;36m  File \u001b[0;32m\"<ipython-input-12-38564b9aa503>\"\u001b[0;36m, line \u001b[0;32m7\u001b[0m\n\u001b[0;31m    backlink_section.children.add_new(ToggleBlock, title=title))\u001b[0m\n\u001b[0m                   ^\u001b[0m\n\u001b[0;31mSyntaxError\u001b[0m\u001b[0;31m:\u001b[0m invalid syntax\n"
     ]
    }
   ],
   "source": [
    "for page_id, tup_list in dct.items():\n",
    "    linked_page = client.get_block(page_id)\n",
    "    linked_page.refresh()\n",
    "    backlink_section = add_backlinks_section_if_not_exists(linked_page)\n",
    "    # Create a toggle for this page, if not exists\n",
    "    title = \"[%s](%s)\" % (page.title, url_for_page(page.id)\n",
    "    backlink_section.children.add_new(ToggleBlock, title=title))\n",
    "    # Transclude each block in the toggle if they're not already present\n",
    "    break"
   ]
  },
  {
   "cell_type": "code",
   "execution_count": null,
   "metadata": {},
   "outputs": [],
   "source": []
  },
  {
   "cell_type": "code",
   "execution_count": null,
   "metadata": {},
   "outputs": [],
   "source": []
  },
  {
   "cell_type": "markdown",
   "metadata": {},
   "source": [
    "## Scratch"
   ]
  },
  {
   "cell_type": "code",
   "execution_count": 191,
   "metadata": {},
   "outputs": [
    {
     "data": {
      "text/plain": [
       "[\n",
       "  <HeaderBlock (id='72106e01-b7fc-40a5-90df-999f94b27f37', title='This is my Header')>,\n",
       "  <SubheaderBlock (id='2784aeb1-c3c2-4cfc-8836-682633b6c05c', title='This is an H2')>,\n",
       "  <ToggleBlock (id='ae53ded3-db01-46ee-bc6a-11992fa47773', title='[Google](https://www.google.com) link for you')>,\n",
       "  <TextBlock (id='eff4ad32-fa1a-4ed2-bc29-bd59d190a185', title='This is some text. Here is a link to ‣.')>,\n",
       "  <TextBlock (id='7541a270-15d4-4517-b07e-889bd5992282', title='Here is a row with a two links to ‣ and one link to ‣.')>,\n",
       "  <TextBlock (id='906f9087-c407-4db7-b737-208bd763721b', title='Here is a link to [google](https://www.google.com). It works.')>,\n",
       "  <ToggleBlock (id='8e71342b-b092-48c6-8c6c-4a79b6b3b5f4', title='Here is a toggle')>,\n",
       "  <Block (id='d0a0a916-c929-47ef-84fc-70d869bd6102', type='link_to_page')>,\n",
       "  <TextBlock (id='de4d028f-9098-47b0-8e3a-caeaff11efc7')>,\n",
       "  <TextBlock (id='04fb9f36-265b-45d7-9913-910744acb27e', title=\"Dank memes can't melt steel beams.\")>,\n",
       "  <DividerBlock (id='624faf01-e197-4a4b-b7e2-891a4dc9625c')>,\n",
       "  <ToggleBlock (id='b00d2682-be79-4cbe-b43c-20aad83961cb', title='Backlinks')>,\n",
       "  <TextBlock (id='36df10b2-eab3-410d-9384-a03bff81390e')>,\n",
       "  <LinkToCollectionBlock (id='07862dd6-fe8a-40d1-adf3-8e9be6f4263c')>,\n",
       "  <TextBlock (id='611d3ac8-eb6c-4d51-95b3-1ce00a76d3c2')>,\n",
       "]"
      ]
     },
     "execution_count": 191,
     "metadata": {},
     "output_type": "execute_result"
    }
   ],
   "source": [
    "page.children"
   ]
  },
  {
   "cell_type": "markdown",
   "metadata": {},
   "source": [
    "## Generating Synced Blocks"
   ]
  },
  {
   "cell_type": "code",
   "execution_count": 45,
   "metadata": {},
   "outputs": [],
   "source": []
  },
  {
   "cell_type": "code",
   "execution_count": 90,
   "metadata": {},
   "outputs": [
    {
     "data": {
      "text/plain": [
       "<TextBlock (id='d6cf368f-c02b-4ccc-b2bd-abba8dcd60e9', title=\"Here's a block I'll practice embedding in my test page. \")>"
      ]
     },
     "execution_count": 90,
     "metadata": {},
     "output_type": "execute_result"
    }
   ],
   "source": [
    "second_test_page = client.get_block(\"https://www.notion.so/ryantho/Second-Test-Page-234991a548b940a3a3e19d8cf83dc00a\")\n",
    "second_test_page.refresh()\n",
    "block = second_test_page.children[2]\n",
    "# link = domain_url + block.id.replace(\"-\", \"\")\n",
    "page_backlinks = get_backlink_section(page)\n",
    "page_backlinks.children.add_alias(block)"
   ]
  },
  {
   "cell_type": "code",
   "execution_count": 92,
   "metadata": {},
   "outputs": [
    {
     "data": {
      "text/plain": [
       "[\n",
       "  <TextBlock (id='65e84bc4-0faf-4084-bd21-ec162e9bfe05')>,\n",
       "  <TextBlock (id='d6cf368f-c02b-4ccc-b2bd-abba8dcd60e9', title=\"Here's a block I'll practice embedding in my test page. \")>,\n",
       "]"
      ]
     },
     "execution_count": 92,
     "metadata": {},
     "output_type": "execute_result"
    }
   ],
   "source": [
    "page_backlinks.children"
   ]
  },
  {
   "cell_type": "code",
   "execution_count": 81,
   "metadata": {},
   "outputs": [
    {
     "data": {
      "text/plain": [
       "[\n",
       "  <HeaderBlock (id='72106e01-b7fc-40a5-90df-999f94b27f37', title='This is my Header')>,\n",
       "  <SubheaderBlock (id='2784aeb1-c3c2-4cfc-8836-682633b6c05c', title='This is an H2')>,\n",
       "  <TextBlock (id='eff4ad32-fa1a-4ed2-bc29-bd59d190a185', title='This is some text. Here is a link to ‣.')>,\n",
       "  <TextBlock (id='7541a270-15d4-4517-b07e-889bd5992282', title='Here is a row with a link to ‣  and ‣.')>,\n",
       "  <TextBlock (id='906f9087-c407-4db7-b737-208bd763721b', title='Here is a link to [google](https://www.google.com). It works.')>,\n",
       "  <Block (id='d0a0a916-c929-47ef-84fc-70d869bd6102', type='link_to_page')>,\n",
       "  <SubheaderBlock (id='de4d028f-9098-47b0-8e3a-caeaff11efc7', title='Backlinks')>,\n",
       "  <DividerBlock (id='624faf01-e197-4a4b-b7e2-891a4dc9625c')>,\n",
       "  <ToggleBlock (id='b00d2682-be79-4cbe-b43c-20aad83961cb', title='Backlinks')>,\n",
       "  <LinkToCollectionBlock (id='07862dd6-fe8a-40d1-adf3-8e9be6f4263c')>,\n",
       "]"
      ]
     },
     "execution_count": 81,
     "metadata": {},
     "output_type": "execute_result"
    }
   ],
   "source": [
    "page.refresh()\n",
    "page.children"
   ]
  },
  {
   "cell_type": "code",
   "execution_count": null,
   "metadata": {},
   "outputs": [],
   "source": [
    "def synced_block(block_id):\n",
    "    "
   ]
  },
  {
   "cell_type": "code",
   "execution_count": null,
   "metadata": {},
   "outputs": [],
   "source": []
  },
  {
   "cell_type": "code",
   "execution_count": null,
   "metadata": {},
   "outputs": [],
   "source": []
  },
  {
   "cell_type": "code",
   "execution_count": null,
   "metadata": {},
   "outputs": [],
   "source": []
  },
  {
   "cell_type": "code",
   "execution_count": null,
   "metadata": {},
   "outputs": [],
   "source": []
  }
 ],
 "metadata": {
  "kernelspec": {
   "display_name": "Python 3",
   "language": "python",
   "name": "python3"
  },
  "language_info": {
   "codemirror_mode": {
    "name": "ipython",
    "version": 3
   },
   "file_extension": ".py",
   "mimetype": "text/x-python",
   "name": "python",
   "nbconvert_exporter": "python",
   "pygments_lexer": "ipython3",
   "version": "3.7.3"
  }
 },
 "nbformat": 4,
 "nbformat_minor": 2
}
